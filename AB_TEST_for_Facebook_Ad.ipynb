{
 "cells": [
  {
   "cell_type": "markdown",
   "metadata": {},
   "source": [
    "# PROBLEM STATEMENT\n",
    "\n",
    "# Analyze and Present A/B Test Results\n",
    "\n",
    "Facebook recently introduced a new bidding type, “average bidding”, as an alternative to its exisiting bidding type, called “maximum bidding”. One of our clients, HotelsForYou.com, has decided to test this new feature and wants to conduct an A/B test to understand if average bidding brings more conversions than maximum bidding.\n",
    "In this A/B test, HotelsForYou.com randomly splits its audience into two equally sized groups, e.g. the test and the control group. A Facebook ad campaign with “maximum bidding” is served to “control group” and another campaign with “average bidding” is served to the “test group”.\n",
    "The A/B test has run for 1 month and HotelsForYou.com now expects you to analyze and present the results of this A/B test.\n",
    "You should answer the following questions in your presentation:\n",
    "1. How would you define the hypothesis of this A/B test?\n",
    "2. Can we conclude statistically significant results?\n",
    "3. Which statistical test did you use, and why?\n",
    "4. Based on your answer to Question 2, what would be your recommendation to client?\n",
    "\n",
    "\n",
    "### Appendix\n",
    "Facebook Ad: An advertisement created by a business on Facebook that's served up to Facebook users. \n",
    "\n",
    "Impressions: The number of times an ad is displayed.\n",
    "\n",
    "Reach: The number of unique people who saw an ad.\n",
    "\n",
    "Website Clicks: The number of clicks on ad links directed to Advertiser’s website.\n",
    "\n",
    "Website Click Through Rate: Number of Website Clicks / Number of Impressions x 100\n",
    "\n",
    "Cost per Action: Spend / Number of Actions\n",
    "\n",
    "Action: Can be any conversion event, such as Search, View Content, Add to Cart and Purchase. Conversion Rate: Number of Actions / Number of Website Clicks x 100"
   ]
  },
  {
   "cell_type": "markdown",
   "metadata": {},
   "source": [
    "## Import Libraries"
   ]
  },
  {
   "cell_type": "code",
   "execution_count": 177,
   "metadata": {},
   "outputs": [],
   "source": [
    "# Import Libraries\n",
    "import pandas as pd\n",
    "import numpy as np\n",
    "import matplotlib.pyplot as plt\n",
    "import seaborn as sns\n",
    "\n",
    "from scipy.stats import shapiro\n",
    "from scipy.stats import levene"
   ]
  },
  {
   "cell_type": "markdown",
   "metadata": {},
   "source": [
    "## Load Data Sets"
   ]
  },
  {
   "cell_type": "code",
   "execution_count": 178,
   "metadata": {},
   "outputs": [],
   "source": [
    "# Data set loading\n",
    "xls = pd.ExcelFile('Data_Science_Case_Study.xlsx')\n",
    "# A Facebook ad campaign with “maximum bidding” is served to “control group” \n",
    "control = pd.read_excel(xls, 'Control_Group')\n",
    "# A Facebook ad campaign with “average bidding” is served to the “test group”\n",
    "test = pd.read_excel(xls, 'Test_Group') \n",
    "\n",
    "# Correction of structural disorders in columns\n",
    "control.columns = ['Campaign_Name', 'Date', 'Spend', 'Impressions', 'Reach',\n",
    "       'Website_Clicks', 'Searches', 'View_Content','Add_to_Cart', 'Purchase']\n",
    "test.columns = ['Campaign_Name', 'Date', 'Spend', 'Impressions', 'Reach',\n",
    "       'Website_Clicks', 'Searches', 'View_Content','Add_to_Cart', 'Purchase']"
   ]
  },
  {
   "cell_type": "markdown",
   "metadata": {},
   "source": [
    "# Data Analysis and Pre-Processing"
   ]
  },
  {
   "cell_type": "markdown",
   "metadata": {},
   "source": [
    "### Control Group"
   ]
  },
  {
   "cell_type": "code",
   "execution_count": 179,
   "metadata": {
    "scrolled": true
   },
   "outputs": [
    {
     "data": {
      "text/html": [
       "<div>\n",
       "<style scoped>\n",
       "    .dataframe tbody tr th:only-of-type {\n",
       "        vertical-align: middle;\n",
       "    }\n",
       "\n",
       "    .dataframe tbody tr th {\n",
       "        vertical-align: top;\n",
       "    }\n",
       "\n",
       "    .dataframe thead th {\n",
       "        text-align: right;\n",
       "    }\n",
       "</style>\n",
       "<table border=\"1\" class=\"dataframe\">\n",
       "  <thead>\n",
       "    <tr style=\"text-align: right;\">\n",
       "      <th></th>\n",
       "      <th>Campaign_Name</th>\n",
       "      <th>Date</th>\n",
       "      <th>Spend</th>\n",
       "      <th>Impressions</th>\n",
       "      <th>Reach</th>\n",
       "      <th>Website_Clicks</th>\n",
       "      <th>Searches</th>\n",
       "      <th>View_Content</th>\n",
       "      <th>Add_to_Cart</th>\n",
       "      <th>Purchase</th>\n",
       "    </tr>\n",
       "  </thead>\n",
       "  <tbody>\n",
       "    <tr>\n",
       "      <td>0</td>\n",
       "      <td>Control Campaign</td>\n",
       "      <td>2017.01.01</td>\n",
       "      <td>2436.124529</td>\n",
       "      <td>90572.0</td>\n",
       "      <td>75440.0</td>\n",
       "      <td>4150.0</td>\n",
       "      <td>1657.0</td>\n",
       "      <td>1541.0</td>\n",
       "      <td>566.0</td>\n",
       "      <td>383.0</td>\n",
       "    </tr>\n",
       "    <tr>\n",
       "      <td>1</td>\n",
       "      <td>Control Campaign</td>\n",
       "      <td>2017.01.02</td>\n",
       "      <td>2621.043006</td>\n",
       "      <td>129612.0</td>\n",
       "      <td>95667.0</td>\n",
       "      <td>6387.0</td>\n",
       "      <td>2265.0</td>\n",
       "      <td>1563.0</td>\n",
       "      <td>1577.0</td>\n",
       "      <td>644.0</td>\n",
       "    </tr>\n",
       "    <tr>\n",
       "      <td>2</td>\n",
       "      <td>Control Campaign</td>\n",
       "      <td>2017.01.03</td>\n",
       "      <td>2427.021083</td>\n",
       "      <td>132803.0</td>\n",
       "      <td>121762.0</td>\n",
       "      <td>6887.0</td>\n",
       "      <td>3100.0</td>\n",
       "      <td>2048.0</td>\n",
       "      <td>1381.0</td>\n",
       "      <td>639.0</td>\n",
       "    </tr>\n",
       "    <tr>\n",
       "      <td>3</td>\n",
       "      <td>Control Campaign</td>\n",
       "      <td>2017.01.04</td>\n",
       "      <td>2565.414978</td>\n",
       "      <td>120570.0</td>\n",
       "      <td>104011.0</td>\n",
       "      <td>6478.0</td>\n",
       "      <td>2579.0</td>\n",
       "      <td>2083.0</td>\n",
       "      <td>1650.0</td>\n",
       "      <td>649.0</td>\n",
       "    </tr>\n",
       "    <tr>\n",
       "      <td>4</td>\n",
       "      <td>Control Campaign</td>\n",
       "      <td>2017.01.05</td>\n",
       "      <td>2648.683326</td>\n",
       "      <td>95822.0</td>\n",
       "      <td>69059.0</td>\n",
       "      <td>4532.0</td>\n",
       "      <td>1823.0</td>\n",
       "      <td>1220.0</td>\n",
       "      <td>940.0</td>\n",
       "      <td>455.0</td>\n",
       "    </tr>\n",
       "  </tbody>\n",
       "</table>\n",
       "</div>"
      ],
      "text/plain": [
       "      Campaign_Name        Date        Spend  Impressions     Reach  \\\n",
       "0  Control Campaign  2017.01.01  2436.124529      90572.0   75440.0   \n",
       "1  Control Campaign  2017.01.02  2621.043006     129612.0   95667.0   \n",
       "2  Control Campaign  2017.01.03  2427.021083     132803.0  121762.0   \n",
       "3  Control Campaign  2017.01.04  2565.414978     120570.0  104011.0   \n",
       "4  Control Campaign  2017.01.05  2648.683326      95822.0   69059.0   \n",
       "\n",
       "   Website_Clicks  Searches  View_Content  Add_to_Cart  Purchase  \n",
       "0          4150.0    1657.0        1541.0        566.0     383.0  \n",
       "1          6387.0    2265.0        1563.0       1577.0     644.0  \n",
       "2          6887.0    3100.0        2048.0       1381.0     639.0  \n",
       "3          6478.0    2579.0        2083.0       1650.0     649.0  \n",
       "4          4532.0    1823.0        1220.0        940.0     455.0  "
      ]
     },
     "execution_count": 179,
     "metadata": {},
     "output_type": "execute_result"
    }
   ],
   "source": [
    "# Data set of the Control Group\n",
    "control.head()"
   ]
  },
  {
   "cell_type": "code",
   "execution_count": 180,
   "metadata": {},
   "outputs": [],
   "source": [
    "# A = Purchase  of the control grup\n",
    "A = control.Purchase"
   ]
  },
  {
   "cell_type": "code",
   "execution_count": 181,
   "metadata": {},
   "outputs": [
    {
     "data": {
      "text/plain": [
       "3"
      ]
     },
     "execution_count": 181,
     "metadata": {},
     "output_type": "execute_result"
    }
   ],
   "source": [
    "# Sum of NaN values in Control Group\n",
    "A.isna().sum()"
   ]
  },
  {
   "cell_type": "code",
   "execution_count": 182,
   "metadata": {
    "scrolled": true
   },
   "outputs": [
    {
     "name": "stderr",
     "output_type": "stream",
     "text": [
      "/opt/anaconda3/lib/python3.7/site-packages/numpy/lib/histograms.py:829: RuntimeWarning: invalid value encountered in greater_equal\n",
      "  keep = (tmp_a >= first_edge)\n",
      "/opt/anaconda3/lib/python3.7/site-packages/numpy/lib/histograms.py:830: RuntimeWarning: invalid value encountered in less_equal\n",
      "  keep &= (tmp_a <= last_edge)\n",
      "/opt/anaconda3/lib/python3.7/site-packages/statsmodels/nonparametric/kde.py:447: RuntimeWarning: invalid value encountered in greater\n",
      "  X = X[np.logical_and(X > clip[0], X < clip[1])] # won't work for two columns.\n",
      "/opt/anaconda3/lib/python3.7/site-packages/statsmodels/nonparametric/kde.py:447: RuntimeWarning: invalid value encountered in less\n",
      "  X = X[np.logical_and(X > clip[0], X < clip[1])] # won't work for two columns.\n"
     ]
    },
    {
     "data": {
      "image/png": "[encoded data removed]",
      "text/plain": [
       "<Figure size 432x288 with 1 Axes>"
      ]
     },
     "metadata": {
      "needs_background": "light"
     },
     "output_type": "display_data"
    }
   ],
   "source": [
    "# Density Plot and Histogram of  Purchaser in Control group\n",
    "sns.distplot(A, hist=True, kde=True, \n",
    "             bins=int(10), color = 'darkblue', \n",
    "             hist_kws={'edgecolor':'black'},\n",
    "             kde_kws={'linewidth': 4});"
   ]
  },
  {
   "cell_type": "markdown",
   "metadata": {},
   "source": [
    "When we look at the distribution of control_purchase values, it is seen that it has a normal distribution. For this reason, filling the NaN values ​​with control_purchase in mean value may be a logical method."
   ]
  },
  {
   "cell_type": "code",
   "execution_count": 183,
   "metadata": {},
   "outputs": [],
   "source": [
    "# Filling the NaN values in control_purchase\n",
    "A.fillna(A.mean(), inplace= True)"
   ]
  },
  {
   "cell_type": "markdown",
   "metadata": {},
   "source": [
    "### Test Group"
   ]
  },
  {
   "cell_type": "code",
   "execution_count": 184,
   "metadata": {},
   "outputs": [
    {
     "data": {
      "text/html": [
       "<div>\n",
       "<style scoped>\n",
       "    .dataframe tbody tr th:only-of-type {\n",
       "        vertical-align: middle;\n",
       "    }\n",
       "\n",
       "    .dataframe tbody tr th {\n",
       "        vertical-align: top;\n",
       "    }\n",
       "\n",
       "    .dataframe thead th {\n",
       "        text-align: right;\n",
       "    }\n",
       "</style>\n",
       "<table border=\"1\" class=\"dataframe\">\n",
       "  <thead>\n",
       "    <tr style=\"text-align: right;\">\n",
       "      <th></th>\n",
       "      <th>Campaign_Name</th>\n",
       "      <th>Date</th>\n",
       "      <th>Spend</th>\n",
       "      <th>Impressions</th>\n",
       "      <th>Reach</th>\n",
       "      <th>Website_Clicks</th>\n",
       "      <th>Searches</th>\n",
       "      <th>View_Content</th>\n",
       "      <th>Add_to_Cart</th>\n",
       "      <th>Purchase</th>\n",
       "    </tr>\n",
       "  </thead>\n",
       "  <tbody>\n",
       "    <tr>\n",
       "      <td>0</td>\n",
       "      <td>Test Campaign</td>\n",
       "      <td>2017.01.01</td>\n",
       "      <td>2335.586267</td>\n",
       "      <td>160244</td>\n",
       "      <td>121551</td>\n",
       "      <td>8223</td>\n",
       "      <td>2989</td>\n",
       "      <td>2949</td>\n",
       "      <td>1371</td>\n",
       "      <td>913</td>\n",
       "    </tr>\n",
       "    <tr>\n",
       "      <td>1</td>\n",
       "      <td>Test Campaign</td>\n",
       "      <td>2017.01.02</td>\n",
       "      <td>2899.490621</td>\n",
       "      <td>100793</td>\n",
       "      <td>68241</td>\n",
       "      <td>4972</td>\n",
       "      <td>2162</td>\n",
       "      <td>1388</td>\n",
       "      <td>1253</td>\n",
       "      <td>510</td>\n",
       "    </tr>\n",
       "    <tr>\n",
       "      <td>2</td>\n",
       "      <td>Test Campaign</td>\n",
       "      <td>2017.01.03</td>\n",
       "      <td>3031.740149</td>\n",
       "      <td>89525</td>\n",
       "      <td>83450</td>\n",
       "      <td>3514</td>\n",
       "      <td>1365</td>\n",
       "      <td>1251</td>\n",
       "      <td>995</td>\n",
       "      <td>391</td>\n",
       "    </tr>\n",
       "    <tr>\n",
       "      <td>3</td>\n",
       "      <td>Test Campaign</td>\n",
       "      <td>2017.01.04</td>\n",
       "      <td>2794.847648</td>\n",
       "      <td>110122</td>\n",
       "      <td>89985</td>\n",
       "      <td>4411</td>\n",
       "      <td>1533</td>\n",
       "      <td>1134</td>\n",
       "      <td>951</td>\n",
       "      <td>434</td>\n",
       "    </tr>\n",
       "    <tr>\n",
       "      <td>4</td>\n",
       "      <td>Test Campaign</td>\n",
       "      <td>2017.01.05</td>\n",
       "      <td>2201.845423</td>\n",
       "      <td>122204</td>\n",
       "      <td>84000</td>\n",
       "      <td>5165</td>\n",
       "      <td>1582</td>\n",
       "      <td>1007</td>\n",
       "      <td>810</td>\n",
       "      <td>492</td>\n",
       "    </tr>\n",
       "  </tbody>\n",
       "</table>\n",
       "</div>"
      ],
      "text/plain": [
       "   Campaign_Name        Date        Spend  Impressions   Reach  \\\n",
       "0  Test Campaign  2017.01.01  2335.586267       160244  121551   \n",
       "1  Test Campaign  2017.01.02  2899.490621       100793   68241   \n",
       "2  Test Campaign  2017.01.03  3031.740149        89525   83450   \n",
       "3  Test Campaign  2017.01.04  2794.847648       110122   89985   \n",
       "4  Test Campaign  2017.01.05  2201.845423       122204   84000   \n",
       "\n",
       "   Website_Clicks  Searches  View_Content  Add_to_Cart  Purchase  \n",
       "0            8223      2989          2949         1371       913  \n",
       "1            4972      2162          1388         1253       510  \n",
       "2            3514      1365          1251          995       391  \n",
       "3            4411      1533          1134          951       434  \n",
       "4            5165      1582          1007          810       492  "
      ]
     },
     "execution_count": 184,
     "metadata": {},
     "output_type": "execute_result"
    }
   ],
   "source": [
    "# Data set of the Test Group\n",
    "test.head()"
   ]
  },
  {
   "cell_type": "code",
   "execution_count": 185,
   "metadata": {},
   "outputs": [],
   "source": [
    "# B = Purchase of the Test grup\n",
    "B = test.Purchase"
   ]
  },
  {
   "cell_type": "code",
   "execution_count": 186,
   "metadata": {},
   "outputs": [
    {
     "data": {
      "text/plain": [
       "0"
      ]
     },
     "execution_count": 186,
     "metadata": {},
     "output_type": "execute_result"
    }
   ],
   "source": [
    "# Sum of NaN values in Test Group\n",
    "B.isna().sum()"
   ]
  },
  {
   "cell_type": "code",
   "execution_count": 187,
   "metadata": {
    "scrolled": false
   },
   "outputs": [
    {
     "data": {
      "image/png": "[encoded data removed]",
      "text/plain": [
       "<Figure size 432x288 with 1 Axes>"
      ]
     },
     "metadata": {
      "needs_background": "light"
     },
     "output_type": "display_data"
    }
   ],
   "source": [
    "# Density Plot and Histogram of  Purchaser in Test group\n",
    "sns.distplot(B, hist=True, kde=True, \n",
    "             bins=int(10), color = 'darkblue', \n",
    "             hist_kws={'edgecolor':'black'},\n",
    "             kde_kws={'linewidth': 4});"
   ]
  },
  {
   "cell_type": "markdown",
   "metadata": {},
   "source": [
    "As it can be seen from above histogram the Purchase values of Test group doesnot have normal distribution. "
   ]
  },
  {
   "attachments": {
    "Screenshot%202020-06-08%20at%2023.30.10.png": {
     "image/png": "[encoded data removed]"
    }
   },
   "cell_type": "markdown",
   "metadata": {},
   "source": [
    "\n",
    "## Independent Two Sample T - Test (AB Test)\n",
    "\n",
    "\n",
    "Here we need to use two independent samples AB test, since two different groups are tested and an evaluation is made between them.\n",
    "\n",
    "My hypothesis is like that:\n",
    "\n",
    "Ho: Our hypothesis is that there is no significant difference between the control group and the purchase of the test group.\n",
    "\n",
    "\n",
    "H1: Our hypothesis is that there is a significant difference between the control group and the purchase of the test group.\n",
    "\n",
    "![Screenshot%202020-06-08%20at%2023.30.10.png](attachment:Screenshot%202020-06-08%20at%2023.30.10.png)\n",
    "\n"
   ]
  },
  {
   "cell_type": "code",
   "execution_count": 188,
   "metadata": {},
   "outputs": [
    {
     "data": {
      "text/plain": [
       "(32, 30)"
      ]
     },
     "execution_count": 188,
     "metadata": {},
     "output_type": "execute_result"
    }
   ],
   "source": [
    "# lenght of the Control group sample(A) and Test group sample(B)\n",
    "len(A), len(B)"
   ]
  },
  {
   "cell_type": "markdown",
   "metadata": {},
   "source": [
    "### Rearranging Data Sets for T-test"
   ]
  },
  {
   "cell_type": "code",
   "execution_count": 189,
   "metadata": {},
   "outputs": [
    {
     "name": "stdout",
     "output_type": "stream",
     "text": [
      "   purchase GRUP\n",
      "0     383.0    A\n",
      "1     644.0    A\n",
      "2     639.0    A\n",
      "3     649.0    A\n",
      "4     455.0    A\n",
      "    purchase GRUP\n",
      "25     277.0    B\n",
      "26     450.0    B\n",
      "27     479.0    B\n",
      "28     472.0    B\n",
      "29     369.0    B\n"
     ]
    }
   ],
   "source": [
    "GRUP_A = np.arange(len(A))\n",
    "GRUP_A = pd.DataFrame(GRUP_A)\n",
    "GRUP_A[:] = \"A\"\n",
    "A = pd.concat([A, GRUP_A], axis = 1)\n",
    "\n",
    "\n",
    "GRUP_B = np.arange(len(B))\n",
    "GRUP_B = pd.DataFrame(GRUP_B)\n",
    "GRUP_B[:] = \"B\"\n",
    "B = pd.concat([B, GRUP_B], axis = 1)\n",
    "\n",
    "\n",
    "AB = pd.concat([A,B])\n",
    "AB.columns = [\"purchase\",\"GRUP\"]\n",
    "print(AB.head())\n",
    "print(AB.tail())"
   ]
  },
  {
   "cell_type": "code",
   "execution_count": 190,
   "metadata": {},
   "outputs": [
    {
     "data": {
      "image/png": "[encoded data removed]",
      "text/plain": [
       "<Figure size 432x288 with 1 Axes>"
      ]
     },
     "metadata": {
      "needs_background": "light"
     },
     "output_type": "display_data"
    }
   ],
   "source": [
    "# Here we create a box-plot to examine the distributions of the two groups.\n",
    "sns.boxplot(x = \"GRUP\", y = \"purchase\", data = AB);"
   ]
  },
  {
   "cell_type": "markdown",
   "metadata": {},
   "source": [
    "As you can see from the box-plot, the average purchase of group A is higher than that of group B. But we don't know if this is random. So we will test to find out whether it is statistically significant or not."
   ]
  },
  {
   "attachments": {
    "Screenshot%202020-06-09%20at%2001.12.50.png": {
     "image/png": "[encoded data removed]"
    }
   },
   "cell_type": "markdown",
   "metadata": {},
   "source": [
    "## Independent Two Sample T - Test Assumption Controls (AB Test)\n",
    "\n",
    "If groups A and B provide the following two assumptions, the Parametric Independent Two-Sample T-Test, which is given below, is applied to these groups and it is decided whether the hypothesis will be rejected or not.\n",
    "\n",
    "* Normality Test(Shapiro Test)\n",
    "* Variance Homogeneity Distribution\n",
    "\n",
    "![Screenshot%202020-06-09%20at%2001.12.50.png](attachment:Screenshot%202020-06-09%20at%2001.12.50.png)\n",
    "\n",
    "\n",
    "\n",
    "If one of these assumptions cannot be achieved, then the Non-Parametric Independent Two Sample T-Test, mannwhitneyu test, is applied."
   ]
  },
  {
   "attachments": {},
   "cell_type": "markdown",
   "metadata": {},
   "source": [
    "###  Normality Test (Shapiro Test)\n"
   ]
  },
  {
   "cell_type": "code",
   "execution_count": 191,
   "metadata": {},
   "outputs": [
    {
     "data": {
      "text/plain": [
       "(0.9902392625808716, 0.9900830388069153)"
      ]
     },
     "execution_count": 191,
     "metadata": {},
     "output_type": "execute_result"
    }
   ],
   "source": [
    "# Shapiro Test of Control Group\n",
    "shapiro(A.Purchase)"
   ]
  },
  {
   "cell_type": "markdown",
   "metadata": {},
   "source": [
    "**Since P-value = 0.99008 is greater than alpha = 0.05, it is said to have a normal distribution and CONTROL GROUP achieved condition. So it has a normal distribution.**"
   ]
  },
  {
   "cell_type": "code",
   "execution_count": 192,
   "metadata": {},
   "outputs": [
    {
     "data": {
      "text/plain": [
       "(0.9188652038574219, 0.02506561577320099)"
      ]
     },
     "execution_count": 192,
     "metadata": {},
     "output_type": "execute_result"
    }
   ],
   "source": [
    "# Shapiro Test of Test Group\n",
    "shapiro(B.Purchase)"
   ]
  },
  {
   "cell_type": "markdown",
   "metadata": {},
   "source": [
    "**Since P-value = 0.02506 is NOT greater than alpha = 0.05, it is said to not have a normal distribution and TEST GROUP cannot achieved condition. So it sdoesnot have a normal distribution.**"
   ]
  },
  {
   "cell_type": "markdown",
   "metadata": {},
   "source": [
    "### Variance Homogeneity Distribution\n",
    "We use levene test to check whether the groups have variance homogeneity or not.\n",
    "\n",
    "Hypothesis:\n",
    "\n",
    "Ho: Variances are homogeneous\n",
    "\n",
    "H1: Variances are not homogeneous. \n"
   ]
  },
  {
   "cell_type": "code",
   "execution_count": 193,
   "metadata": {},
   "outputs": [
    {
     "data": {
      "text/plain": [
       "LeveneResult(statistic=0.7785891893310539, pvalue=0.38109449099609716)"
      ]
     },
     "execution_count": 193,
     "metadata": {},
     "output_type": "execute_result"
    }
   ],
   "source": [
    "# Levene Test \n",
    "levene(A.Purchase, B.Purchase)"
   ]
  },
  {
   "cell_type": "code",
   "execution_count": 194,
   "metadata": {},
   "outputs": [
    {
     "name": "stdout",
     "output_type": "stream",
     "text": [
      "Levene Statistics: 0.7785891893310539\n",
      "Calculated P-value: 0.38109449099609716\n"
     ]
    }
   ],
   "source": [
    "print(\"Levene Statistics: \" + str(levene(A.Purchase, B.Purchase)[0]))\n",
    "print(\"Calculated P-value: \" + str(levene(A.Purchase, B.Purchase)[1]))"
   ]
  },
  {
   "cell_type": "markdown",
   "metadata": {},
   "source": [
    "**Since the P-value = 0.381094 value is greater than alpha = 0.05, the Ho hypothesis is not rejected, so the variances are called homogeneous.**\n",
    "\n"
   ]
  },
  {
   "attachments": {},
   "cell_type": "markdown",
   "metadata": {},
   "source": [
    "### Hypothesis Testing (Non-Parametric Independent Two Sample T-Test)\n",
    "\n",
    "While the assumption of variance homogeneity, which is one of the assumption tests, provides the condition, the normal distribution assumption could not be achieved. The Non-Parametric test that should be applied in this case is the **mannwhitneyu test**."
   ]
  },
  {
   "cell_type": "code",
   "execution_count": 195,
   "metadata": {},
   "outputs": [
    {
     "data": {
      "text/plain": [
       "MannwhitneyuResult(statistic=413.0, pvalue=0.17441678204651884)"
      ]
     },
     "execution_count": 195,
     "metadata": {},
     "output_type": "execute_result"
    }
   ],
   "source": [
    "# Mannwhitneyu Test\n",
    "from scipy.stats import mannwhitneyu\n",
    "mannwhitneyu(A.Purchase, B.Purchase)"
   ]
  },
  {
   "cell_type": "code",
   "execution_count": 196,
   "metadata": {},
   "outputs": [
    {
     "name": "stdout",
     "output_type": "stream",
     "text": [
      "Test statistics = 413.0000, p-value = 0.1744\n"
     ]
    }
   ],
   "source": [
    "test_statistics, pvalue = mannwhitneyu(A.Purchase, B.Purchase)\n",
    "print('Test statistics = %.4f, p-value = %.4f' % (test_statistics, pvalue))"
   ]
  },
  {
   "cell_type": "markdown",
   "metadata": {},
   "source": [
    "## Conclusion\n",
    "\n",
    "Since pvalue = 0.1744 is greater than alpha = 0.05, there is NO SIGNIFICANT DIFFERENCE between Purchase values of Control and Test groups.\n",
    "\n",
    "\n",
    "**So the Ho: µ1 = µ2 hypothesis, which says there is no difference, is not rejected.**"
   ]
  }
 ],
 "metadata": {
  "kernelspec": {
   "display_name": "Python 3",
   "language": "python",
   "name": "python3"
  },
  "language_info": {
   "codemirror_mode": {
    "name": "ipython",
    "version": 3
   },
   "file_extension": ".py",
   "mimetype": "text/x-python",
   "name": "python",
   "nbconvert_exporter": "python",
   "pygments_lexer": "ipython3",
   "version": "3.7.4"
  }
 },
 "nbformat": 4,
 "nbformat_minor": 2
}
